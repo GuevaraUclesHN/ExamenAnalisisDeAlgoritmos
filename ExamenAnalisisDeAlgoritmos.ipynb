{
  "nbformat": 4,
  "nbformat_minor": 0,
  "metadata": {
    "colab": {
      "name": "ExamenAnalisisDeAlgoritmos",
      "provenance": [],
      "collapsed_sections": []
    },
    "kernelspec": {
      "display_name": "Python 3",
      "name": "python3"
    }
  },
  "cells": [
    {
      "cell_type": "markdown",
      "metadata": {
        "id": "TKV5GfFjFVWG"
      },
      "source": [
        "#Examen 1 Analisis de Algoritmos \n"
      ]
    },
    {
      "cell_type": "markdown",
      "metadata": {
        "id": "0Yx_7vj_Fa-x"
      },
      "source": [
        "#1.- Insertion Sort\n",
        "\n",
        "-Implementar InsertionSort usando Python. \n",
        "\n",
        "-Graficar los tiempos de ejecución de la solución.\n",
        "\n",
        "-Realizar el análisis de complejidad.\n",
        "\n",
        "-Realizar un análisis cualitativo de la solución"
      ]
    },
    {
      "cell_type": "code",
      "metadata": {
        "colab": {
          "base_uri": "https://localhost:8080/",
          "height": 385
        },
        "id": "4lJMyXOUFzXr",
        "outputId": "21992f1d-0b23-4452-a017-8e01dba848b7"
      },
      "source": [
        "\n",
        "import matplotlib.pyplot as plt\n",
        "import numpy as np\n",
        "import time as t\n",
        "\n",
        "times = {}\n",
        "\n",
        "def insertionSort(arr):\n",
        "    for i in range(1,len(arr)):     # orden n\n",
        "        actual = arr[i]             #  # O(1) constante\n",
        "        j = i - 1                   # a # O(1) constante\n",
        "        while j >= 0 and actual < arr[j]:   # orden n^2\n",
        "            arr[j+1] = arr[j]       #   O(1) constante\n",
        "            j -= 1                  #  # O(1) constante\n",
        "        arr[j+1] = actual           #  # O(1) constante\n",
        "\n",
        "def test(arr):\n",
        "    start_time = t.time()           # O(1) constante\n",
        "    insertionSort(arr)              #  O(1)\n",
        "    for i in range(len(arr)):       # orden O(n)\n",
        "        n = arr[i]                   # O(1) constante\n",
        "        print(arr[i])                # O(1) constante\n",
        "        times[n] = t.time() - start_time     # O(1) constante\n",
        "\n",
        "def plot(times):\n",
        "    x = sorted(times.items())       # funcion O(1)\n",
        "    plt.plot(x)                     # funcion O(1)\n",
        "    plt.show()                      # funcion O(1)\n",
        "\n",
        "\n",
        "arr = [5,2,7,1,2,6,9]     #  # O(1) constante\n",
        "test(arr)                                               # funcion O(1)\n",
        "plot(times)          "
      ],
      "execution_count": null,
      "outputs": [
        {
          "output_type": "stream",
          "text": [
            "1\n",
            "2\n",
            "2\n",
            "5\n",
            "6\n",
            "7\n",
            "9\n"
          ],
          "name": "stdout"
        },
        {
          "output_type": "display_data",
          "data": {
            "image/png": "[encoded data removed]",
            "text/plain": [
              "<Figure size 432x288 with 1 Axes>"
            ]
          },
          "metadata": {
            "tags": [],
            "needs_background": "light"
          }
        }
      ]
    },
    {
      "cell_type": "markdown",
      "metadata": {
        "id": "g992Fq7-1VZ2"
      },
      "source": [
        "Analisis de complejidad:\n",
        "\n",
        "T(n) = aT(n/b) + f(n)\n",
        "\n",
        "Tomando en cuenta que:\n",
        "a = 3\n",
        "n/b = 2\n",
        "F(n) = 2\n",
        "Obtenemos que este algoritmo es de complejidad O(n^2)\n"
      ]
    },
    {
      "cell_type": "markdown",
      "metadata": {
        "id": "Yy4fsawW7wi-"
      },
      "source": [
        "Analisis cualitativo:\n",
        "\n",
        "El Insertion Sort es uno de los ordenamientos mas usados y muy facil de programar, pero a la hora de tener un arreglo muy grande y muy desordenado puede que no sea el mejor. aun asi se usa mucho pero uno sabra cuando ocupe un ordenamiento mas eficaz"
      ]
    },
    {
      "cell_type": "markdown",
      "metadata": {
        "id": "MDY4K0rTMGv6"
      },
      "source": [
        "#2.- HeapSort\n",
        "\n",
        "-Investigar el algoritmo HeapSort:\n",
        "\n",
        "-Graficar los tiempos de ejecución de la solución.\n",
        "\n",
        "-Realizar el análisis de complejidad.\n",
        "\n",
        "-Realizar un análisis cualitativo de la solución.\n",
        "\n"
      ]
    },
    {
      "cell_type": "markdown",
      "metadata": {
        "id": "6Ti6O6r5I0Kc"
      },
      "source": [
        "HeapSort\n",
        "\n",
        "\n",
        "El ordenamiento por monticulos es un algoritmo de ordenamiento no recursivo, no estable, con complejidad computacional O(n log n).\n",
        "Este algoritmo consiste en almacenar todos los elementos del vector a ordenar en un monticulo, conocido como heap, y luego extraer el nood que queda como nodo raiz del monticulo, osea la cima en sucesivas iteraciones obteniendo el conjunto ordenado. El algoritmo, en su implementacion habitual, tiene dos fases. Primero una fase de construccion de un monticulo a partir del conjunto de elementos de entraa, y despues, una fase de extraccion sucesiva de la cima del monticulo."
      ]
    },
    {
      "cell_type": "code",
      "metadata": {
        "colab": {
          "base_uri": "https://localhost:8080/",
          "height": 351
        },
        "id": "yV7dxLczPDhW",
        "outputId": "059afdab-7177-4641-b815-919e88a59636"
      },
      "source": [
        " import matplotlib.pyplot as plt\n",
        "import numpy as np\n",
        "import time as t\n",
        "\n",
        "times = {}\n",
        "\n",
        "# heapify\n",
        "def heapify(arr, n, i):\n",
        "   maximoValor = i  #  O(1)\n",
        "   izq = 2 * i + 1   #  O(1)\n",
        "   der = 2 * i + 2   #  O(1)\n",
        "\n",
        "   # Hay nodo izquierdo\n",
        "   if izq < n and arr[i] < arr[izq]:\n",
        "      maximoValor = izq  #  O(1)\n",
        "  \n",
        "   if der < n and arr[maximoValor] < arr[der]:\n",
        "      maximoValor = der #  O(1)\n",
        "   # Raiz\n",
        "   if maximoValor != i:\n",
        "      arr[i],arr[maximoValor] = arr[maximoValor],arr[i]  #  O(1)\n",
        "      heapify(arr, n, maximoValor)   #  O(1)\n",
        "\n",
        "def heapSort(arr): \n",
        "   n = len(arr)  #  O(1)\n",
        "   for i in range(n, -1, -1):  #  O(n)\n",
        "      heapify(arr, n, i)  #  O(1)\n",
        "   for i in range(n-1, 0, -1):  #  O(n)\n",
        "      arr[i], arr[0] = arr[0], arr[i]  #  O(1)\n",
        "      heapify(arr, i, 0)  #  O(1)\n",
        "\n",
        "def test(arr):\n",
        "    start_time = t.time()  \n",
        "    heapSort(arr) #  O(1)\n",
        "    for i in range(len(arr)): #  O(n)\n",
        "        n = arr[i]  #  O(1)\n",
        "        print(arr[i])  #  O(1)\n",
        "        times[n] = t.time() - start_time #  O(1)\n",
        "\n",
        "def plot(times):\n",
        "    x = sorted(times.items())  #  O(1)\n",
        "    plt.plot(x)  #  O(1)\n",
        "    plt.show()  #  O(1)\n",
        " \n",
        "arr = [2,5,100,29,1]  #  O(1)\n",
        "test(arr)  #  O(1)\n",
        "plot(times)  #  O(1)"
      ],
      "execution_count": null,
      "outputs": [
        {
          "output_type": "stream",
          "text": [
            "1\n",
            "2\n",
            "5\n",
            "29\n",
            "100\n"
          ],
          "name": "stdout"
        },
        {
          "output_type": "display_data",
          "data": {
            "image/png": "[encoded data removed]",
            "text/plain": [
              "<Figure size 432x288 with 1 Axes>"
            ]
          },
          "metadata": {
            "tags": [],
            "needs_background": "light"
          }
        }
      ]
    },
    {
      "cell_type": "markdown",
      "metadata": {
        "id": "iWbFEuU0Fepy"
      },
      "source": [
        "Analisis de Complejidad:\n",
        "\n",
        "En este problema tenemos 2 funciones muy importante que son Heapify y HeapSort\n",
        "\n",
        "Heapify nos ayuda a crear el heap y no da O(n)\n",
        "\n",
        "Y la funcion de HeapSort que bueno es el ordenamiento y nos da O(log n)\n",
        "\n",
        "y si sumamos ambos nos daria O(n) + O(log n) = O(n log n).\n"
      ]
    },
    {
      "cell_type": "markdown",
      "metadata": {
        "id": "s0xJj8eVI68f"
      },
      "source": [
        "Analisis de Complejidad:\n",
        "Nos damos cuenta como la funcion de Heapify ayuda a HeapSort a ser mas eficaz, ya que si se hiciera todo en una funcion pues no seria eficiente, nos damos cuenta que puede llegar a ser una gran opcion a la hora de tener ordenamientos.\n"
      ]
    },
    {
      "cell_type": "markdown",
      "metadata": {
        "id": "viISWAbKMXlf"
      },
      "source": [
        "#3.- Potencia, Divide y Vencerás\n",
        "\n",
        "\n",
        "-Graficar los tiempos de ejecución de la solución.\n",
        "\n",
        "-Realizar el análisis de complejidad.\n",
        "\n",
        "-Realizar un análisis cualitativo de la solución."
      ]
    },
    {
      "cell_type": "code",
      "metadata": {
        "colab": {
          "base_uri": "https://localhost:8080/",
          "height": 420
        },
        "id": "4yCVAlamTmqv",
        "outputId": "f1954bab-9215-478b-d71e-bf2461654281"
      },
      "source": [
        "import matplotlib.pyplot as plt\n",
        "import numpy as np\n",
        "import time as t\n",
        "\n",
        "times = {}\n",
        "\n",
        "def power(base,exponente):\n",
        "    numIter = 1\n",
        "    if exponente == 0:\n",
        "        return 1\n",
        "    else:\n",
        "        result = base\n",
        "        for i in range(exponente-1):\n",
        "            numIter += 1\n",
        "            result *= base\n",
        "    return result\n",
        "\n",
        "def test(base,exponente):\n",
        "    start_time = t.time()\n",
        "    for n in range(exponente):\n",
        "        print(power(base,n+1))\n",
        "        times[n] = t.time() - start_time\n",
        "\n",
        "def plot(times):\n",
        "    x = sorted(times.items())\n",
        "    plt.plot(x)\n",
        "    plt.show()\n",
        "\n",
        "\n",
        "base = 2\n",
        "exponente = 9\n",
        "test(base,exponente)\n",
        "plot(times)\n",
        "  \n",
        "  "
      ],
      "execution_count": null,
      "outputs": [
        {
          "output_type": "stream",
          "text": [
            "2\n",
            "4\n",
            "8\n",
            "16\n",
            "32\n",
            "64\n",
            "128\n",
            "256\n",
            "512\n"
          ],
          "name": "stdout"
        },
        {
          "output_type": "display_data",
          "data": {
            "image/png": "[encoded data removed]",
            "text/plain": [
              "<Figure size 432x288 with 1 Axes>"
            ]
          },
          "metadata": {
            "tags": [],
            "needs_background": "light"
          }
        }
      ]
    },
    {
      "cell_type": "markdown",
      "metadata": {
        "id": "k2_NFNoA28a7"
      },
      "source": [
        "Analisis de complejidad:\n",
        "Al realizar el algoritmo de potencia con el metodo de divide y venceras se obtiene un algoritmo con una complejidad logaritmica de O(log n)"
      ]
    },
    {
      "cell_type": "markdown",
      "metadata": {
        "id": "bE3OBxRi3FzA"
      },
      "source": [
        "Analisis cualitativo: Este ejercicio de potencia nos demuestra como el metodo de divide y venceras hace los algortimos mas eficientes ya que logra que el algoritmo se convierte en log de n, y sin divide y venceras seran mayores los tiempos de ejecucion. "
      ]
    },
    {
      "cell_type": "markdown",
      "metadata": {
        "id": "jmQkjRKyMdK1"
      },
      "source": [
        "#4.- AVL - Insert\n",
        "\n",
        "-Realizar el análisis de complejidad.\n",
        "\n",
        "-Realizar un análisis cualitativo de la solución.\n",
        "\n",
        "https://youtu.be/FNeL18KsWPc\n",
        "\n",
        "https://en.wikipedia.org/wiki/AVL_tree\n",
        "\n"
      ]
    },
    {
      "cell_type": "code",
      "metadata": {
        "colab": {
          "base_uri": "https://localhost:8080/",
          "height": 351
        },
        "id": "F0-u8OtMER8K",
        "outputId": "a536f5f9-37ef-403c-8888-6bb35824a83b"
      },
      "source": [
        "import matplotlib.pyplot as plt\n",
        "import numpy as np\n",
        "import time as t\n",
        "\n",
        "times = {}\n",
        "\n",
        "class TreeNode(object): \n",
        "    def __init__(self, val): \n",
        "        self.val = val \n",
        "        self.left = None\n",
        "        self.right = None\n",
        "        self.height = 1\n",
        "  \n",
        "class AVL_Tree(object): \n",
        "  \n",
        "    def insert(self, root, key): \n",
        "      \n",
        "     \n",
        "        if not root: \n",
        "            return TreeNode(key) #O(1)\n",
        "        elif key < root.val: \n",
        "            root.left = self.insert(root.left, key)     #constante O(1)\n",
        "        else: \n",
        "            root.right = self.insert(root.right, key)   #constante O(1)\n",
        "  \n",
        "      \n",
        "        root.height = 1 + max(self.getHeight(root.left),         #asignacion = O(1)\n",
        "                           self.getHeight(root.right)) \n",
        "  \n",
        "      \n",
        "        balance = self.getBalance(root)                                              #asignacion = O(1)\n",
        "  \n",
        "        \n",
        "        if balance > 1 and key < root.left.val: \n",
        "            return self.rightRotate(root) \n",
        "\n",
        "        if balance < -1 and key > root.right.val: \n",
        "            return self.leftRotate(root) \n",
        "  \n",
        "        if balance > 1 and key > root.left.val: \n",
        "            root.left = self.leftRotate(root.left) \n",
        "            return self.rightRotate(root) \n",
        "  \n",
        "        if balance < -1 and key < root.right.val: \n",
        "            root.right = self.rightRotate(root.right) \n",
        "            return self.leftRotate(root) \n",
        " \n",
        "        return root \n",
        "  \n",
        "\n",
        "    def leftRotate(self, z): \n",
        "  \n",
        "        y = z.right                                              #asignacion  O(1)\n",
        "        T2 = y.left                                              #asignacion  O(1)\n",
        "  \n",
        "       \n",
        "        y.left = z                                              #asignacion  O(1)\n",
        "        z.right = T2                                              #asignacion  O(1)\n",
        "  \n",
        "        \n",
        "        z.height = 1 + max(self.getHeight(z.left),                                              #asignacion  O(1)\n",
        "                         self.getHeight(z.right)) \n",
        "        y.height = 1 + max(self.getHeight(y.left),                                               #asignacion  O(1)\n",
        "                         self.getHeight(y.right)) \n",
        "  \n",
        "        return y                                               #return = O(1)\n",
        "  \n",
        "\n",
        "    def rightRotate(self, z): \n",
        "  \n",
        "        y = z.left                                              #asignacion = O(1)\n",
        "        T3 = y.right                                             #asignacion = O(1) \n",
        "  \n",
        "        # Swap to right\n",
        "        y.right = z                                              #asignacion = O(1)\n",
        "        z.left = T3                                              #asignacion = O(1)\n",
        "  \n",
        "        \n",
        "        z.height = 1 + max(self.getHeight(z.left),                                              #asignacion = O(1)\n",
        "                        self.getHeight(z.right)) \n",
        "        y.height = 1 + max(self.getHeight(y.left),                                              #asignacion = O(1)\n",
        "                        self.getHeight(y.right)) \n",
        "        return y \n",
        "  \n",
        "    def getHeight(self, root): \n",
        "        if not root:        # if = O(1)\n",
        "            return 0\n",
        "        return root.height # return = O(1)\n",
        "\n",
        "    def getBalance(self, root): \n",
        "        if not root:        # if = O(1)\n",
        "            return 0\n",
        "        return self.getHeight(root.left) - self.getHeight(root.right)   #return = O(1)\n",
        "  \n",
        "def test(root):\n",
        "\n",
        "    start_time = t.time() #O(1)\n",
        "    for i in range(5): #O(N)\n",
        "        print(\"Se ingreso: \", i)\n",
        "        root = myTree.insert(root, i)  #O(1)\n",
        "        times[i] = t.time() - start_time #O(1)\n",
        "       \n",
        "\n",
        "def plot(times):\n",
        "    x = sorted(times.items()) #O(1)\n",
        "    plt.plot(x) #O(1)\n",
        "    plt.show() #O(1)\n",
        " \n",
        "\n",
        "myTree = AVL_Tree() #O(1)\n",
        "root = None #O(1)\n",
        "test(root) #O(1)\n",
        "plot(times) #O(1)\n"
      ],
      "execution_count": null,
      "outputs": [
        {
          "output_type": "stream",
          "text": [
            "Se ingreso:  0\n",
            "Se ingreso:  1\n",
            "Se ingreso:  2\n",
            "Se ingreso:  3\n",
            "Se ingreso:  4\n"
          ],
          "name": "stdout"
        },
        {
          "output_type": "display_data",
          "data": {
            "image/png": "[encoded data removed]",
            "text/plain": [
              "<Figure size 432x288 with 1 Axes>"
            ]
          },
          "metadata": {
            "tags": [],
            "needs_background": "light"
          }
        }
      ]
    },
    {
      "cell_type": "markdown",
      "metadata": {
        "id": "WtDaj0KVO4p8"
      },
      "source": [
        "Analisis de Complejidad\n",
        "T(n) = aT(n/b) + f(n)\n",
        "Tomando en cuenta que:\n",
        "\n",
        "a = 1\n",
        "\n",
        "n/b = 2\n",
        "\n",
        "F(n) = 0\n",
        "Obtenemos que nuestro algoritmo AVL es de orden O(log n)."
      ]
    },
    {
      "cell_type": "markdown",
      "metadata": {
        "id": "ctWRxvKSMjBC"
      },
      "source": [
        "#5.- Minimum Spanning Tree\n",
        "\n",
        "-Realizar el análisis de complejidad.\n",
        "\n",
        "-Realizar un análisis cualitativo de la solución"
      ]
    },
    {
      "cell_type": "markdown",
      "metadata": {
        "id": "s3vM1SBn2hdx"
      },
      "source": [
        "El algoritmo del árbol de expansión mínima es un modelo de optimización de redes que consiste en enlazar todos los nodos de la red de forma directa y/o indirecta con el objetivo de que la longitud total de los arcos o ramales sea mínima (entiéndase por longitud del arco una cantidad variable según el contexto operacional de minimización, y que puede bien representar una distancia o unidad de medida).\n",
        "\n",
        "\n",
        "El algoritmo de Kruskal es un algoritmo de la teoría de grafos para encontrar un árbol recubridor mínimo en un grafo conexo y ponderado. Es decir, busca un subconjunto de aristas que, formando un árbol, incluyen todos los vértices y donde el valor de la suma de todas las aristas del árbol es el mínimo\n",
        "\n",
        "\n",
        "El Algoritmo de Prim consiste en incrementar el tamaño de un árbol, empezando por un vértice inicial al cual se le van agregando sucesivamente vértices cuya distancia a los anteriores es mínima. Esto quiere decir que en cada paso, las aristas a considerar son aquellas que inciden en vértices que ya pertenecen al árbol. Por tanto, el árbol recubridor mínimo estará completamente construido cuando no queden más vértices por agregar. Los requisitos para proceder con el Algoritmo de Prim son:\n",
        "*   Grafo conexo\n",
        "*   Tener todos los arcos etiquetados\n",
        "\n",
        "La idea fundamental consiste en añadir en cada paso una arista de peso mínimo a un árbol previamente construido. Para verlo de un modo más explícito, se definen los siguientes pasos:\n",
        "\n",
        "* Se elige un vértice U de G y se considera el árbol S={U}.\n",
        "* Se considera la arista e de mínimo peso que une un vértice de S y un vértice que no es de S, y se hace S=S+e .\n",
        "* Si el número de aristas de T es n-1, el algoritmo termina. En caso contrario, volveríamos al paso 2.\n",
        "\n",
        "\n",
        "#Analisis de Complejidad\n",
        "Este algoritmo consiste en empezar por un vértice e ir añadiendo vértices al conjunto de modo que a cada paso se coja la arista de menor peso. Utilizando la misma terminología que en la explicación de Dijkstra: consideramos un subgrafo F del grafo original G inicialmente formado por un nodo cualquiera. Consideramos todos los nodos a los que podemos llegar desde F, vamos al que esté a distancia mínima de F y lo añadimos; repetimos el proceso hasta haber añadido todos los vértices de G.\n",
        "* El árbol final puede variar dependiendo de cuál sea el nodo desde el  que empezamos, pero no su coste.\n",
        "* El algoritmo también es válido cuando hay pesos negativos.\n",
        "* La complejidad del algoritmo es de O(E log( V )) \n",
        "\n",
        "\n",
        "#Analisis de Cualitativo\n",
        "\n",
        "Nos damos cuenta que este es el algoritmo mas dificil de todos los vistos en el examen y la grandeza que puede llegar a tener, en lo investigado me dio ejemplos de una red de carreteras como se podian llegar a unir las calles y eso me enseña el potencial de este algoritmo que nunca lo habia escuchado antes de la clase, pero demuestra que es uno de los mejores. "
      ]
    }
  ]
}